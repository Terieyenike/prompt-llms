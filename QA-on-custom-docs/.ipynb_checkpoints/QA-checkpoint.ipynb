{
 "cells": [
  {
   "cell_type": "markdown",
   "id": "7564a26d",
   "metadata": {},
   "source": [
    "# Project: Question-Answering on Private Documents"
   ]
  },
  {
   "cell_type": "code",
   "execution_count": null,
   "id": "f287ab8f",
   "metadata": {},
   "outputs": [],
   "source": [
    "import os\n",
    "from dotenv import load_dotenv, find_dotenv\n",
    "load_dotenv(find_dotenv(), override=True)"
   ]
  },
  {
   "cell_type": "code",
   "execution_count": 2,
   "id": "6632f56a",
   "metadata": {},
   "outputs": [
    {
     "name": "stdout",
     "output_type": "stream",
     "text": [
      "Note: you may need to restart the kernel to use updated packages.\n"
     ]
    }
   ],
   "source": [
    "pip install pypdf -q"
   ]
  },
  {
   "cell_type": "code",
   "execution_count": 3,
   "id": "23702e17",
   "metadata": {},
   "outputs": [
    {
     "name": "stdout",
     "output_type": "stream",
     "text": [
      "Note: you may need to restart the kernel to use updated packages.\n"
     ]
    }
   ],
   "source": [
    "pip install docx2txt -q"
   ]
  },
  {
   "cell_type": "code",
   "execution_count": 4,
   "id": "0cef8699",
   "metadata": {},
   "outputs": [
    {
     "name": "stdout",
     "output_type": "stream",
     "text": [
      "Note: you may need to restart the kernel to use updated packages.\n"
     ]
    }
   ],
   "source": [
    "pip install wikipedia -q"
   ]
  },
  {
   "cell_type": "code",
   "execution_count": 5,
   "id": "bc7f623f",
   "metadata": {},
   "outputs": [],
   "source": [
    "def load_document(file):\n",
    "    import os\n",
    "    name, extension = os.path.splitext(file)\n",
    "    \n",
    "    if extension == '.pdf':\n",
    "        from langchain.document_loaders import PyPDFLoader\n",
    "        print(f'Loading {file}')\n",
    "        loader = PyPDFLoader(file)\n",
    "    elif extension == '.docx':\n",
    "        from langchain.document_loaders import Docx2txtLoader\n",
    "        print(f'Loading {file}')\n",
    "        loader = Docx2txtLoader(file)\n",
    "    else:\n",
    "        print('Document format is not supported.')\n",
    "        return None\n",
    "    \n",
    "    data = loader.load()\n",
    "    return data\n",
    "\n",
    "def load_from_wikipedia(query, lang='en', load_max_docs=2):\n",
    "    from langchain.document_loaders import WikipediaLoader\n",
    "    loader = WikipediaLoader(query=query, lang=lang, load_max_docs=load_max_docs)\n",
    "    data = loader.load()\n",
    "    return data"
   ]
  },
  {
   "cell_type": "code",
   "execution_count": 6,
   "id": "6efd5e68",
   "metadata": {},
   "outputs": [],
   "source": [
    "def chunk_data(data, chunk_size=256):\n",
    "    from langchain.text_splitter import RecursiveCharacterTextSplitter\n",
    "    text_splitter = RecursiveCharacterTextSplitter(chunk_size=chunk_size, chunk_overlap=0)\n",
    "    chunks = text_splitter.split_documents(data)\n",
    "    return chunks"
   ]
  },
  {
   "cell_type": "markdown",
   "id": "6c23a015",
   "metadata": {},
   "source": [
    "### Calculating Cost"
   ]
  },
  {
   "cell_type": "code",
   "execution_count": 7,
   "id": "3f43191a",
   "metadata": {},
   "outputs": [],
   "source": [
    "def print_embedding_cost(texts):\n",
    "    import tiktoken\n",
    "    enc = tiktoken.encoding_for_model(\"text-embedding-ada-002\")\n",
    "    total_tokens = sum([len(enc.encode(page.page_content)) for page in texts])\n",
    "    print(f\"Total tokens: {total_tokens}\")\n",
    "    print(f\"Embedding Cost in USD: {total_tokens / 1000 * 0.0004:.6f}\")"
   ]
  },
  {
   "cell_type": "markdown",
   "id": "de77b025",
   "metadata": {},
   "source": [
    "### Embedding and Uploading to a Vector Database (Pinecone)"
   ]
  },
  {
   "cell_type": "code",
   "execution_count": 8,
   "id": "a1d10cb7",
   "metadata": {},
   "outputs": [
    {
     "data": {
      "text/plain": [
       "True"
      ]
     },
     "execution_count": 8,
     "metadata": {},
     "output_type": "execute_result"
    }
   ],
   "source": [
    "import os\n",
    "from dotenv import load_dotenv, find_dotenv\n",
    "load_dotenv(find_dotenv(), override=True)"
   ]
  },
  {
   "cell_type": "code",
   "execution_count": 9,
   "id": "72e1dee7",
   "metadata": {},
   "outputs": [],
   "source": [
    "def insert_or_fetch_embeddings(index_name):\n",
    "    import pinecone\n",
    "    from langchain.vectorstores import Pinecone\n",
    "    from langchain.embeddings.openai import OpenAIEmbeddings\n",
    "    \n",
    "    embeddings = OpenAIEmbeddings()\n",
    "    \n",
    "    pinecone.init(api_key=os.environ.get('PINECONE_API_KEY'), environment=os.environ.get('PINECONE_ENV'))\n",
    "    \n",
    "    if index_name in pinecone.list_indexes():\n",
    "        print(f'Index {index_name} already exists. Loading embeddings ... ', end='')\n",
    "        vector_store = Pinecone.from_existing_index(index_name, embeddings)\n",
    "        print('Ok')\n",
    "    else:\n",
    "        print(f'Creating index {index_name} and embeddings ...', end='')\n",
    "        pinecone.create_index(index_name, dimension=1536, metric='cosine')\n",
    "        vector_store = Pinecone.from_documents(chunks, embeddings, index_name=index_name)\n",
    "        print('Ok')\n",
    "        \n",
    "    return vector_store"
   ]
  },
  {
   "cell_type": "code",
   "execution_count": 10,
   "id": "c13e24a7",
   "metadata": {},
   "outputs": [],
   "source": [
    "def delete_pinecone_index(index_name='all'):\n",
    "    import pinecone\n",
    "    pinecone.init(api_key=os.environ.get('PINECONE_API_KEY'), environment=os.environ.get('PINECONE_ENV'))\n",
    "    \n",
    "    if index_name == 'all':\n",
    "        indexes = pinecone.list_indexes()\n",
    "        print('Deleting all indexes ... ')\n",
    "        for index in indexes:\n",
    "            pinecone.delete_index(index)\n",
    "        print('Ok')\n",
    "    else:\n",
    "        print(f'Deleting index {index_name} ...', end='')\n",
    "        pinecone.delete_index(index_name)\n",
    "        print('Ok')"
   ]
  },
  {
   "cell_type": "markdown",
   "id": "2ab15e05",
   "metadata": {},
   "source": [
    "### Asking and Getting Answers"
   ]
  },
  {
   "cell_type": "code",
   "execution_count": null,
   "id": "d774b063",
   "metadata": {},
   "outputs": [],
   "source": [
    "def ask_and_get_answer(vector_store, q):\n",
    "    from langchain.chains import RetrievalQA\n",
    "    from langchain.chat_models import ChatOpenAI\n",
    "\n",
    "    llm = ChatOpenAI(model=\"gpt-3.5-turbo\", temperature=1)\n",
    "\n",
    "    retriever = vector_store.as_retriever(search_type=\"similarity\", search_kwargs={\"k\": 3})\n",
    "\n",
    "    chain = RetrievalQA.from_chain_type(llm=llm, chain_type=\"stuff\", retriever=retriever)\n",
    "    \n",
    "    answer = chain.run(q)\n",
    "    return answer\n",
    "\n",
    "def ask_with_memory(vector_store, question, chat_history=[]):\n",
    "    from langchain.chains import ConversationalRetrievalChain\n",
    "    from langchain.chat_models import ChatOpenAI\n",
    "\n",
    "    llm = ChatOpenAI(temperature=0.1)\n",
    "    retriever = vector_store.as_retriever(search_type=\"similarity\", search_kwargs={\"k\":5})\n",
    "    crc = ConversationalRetrievalChain.from_llm(llm, retriever)\n",
    "    result = crc({\"question\": question, \"chat_history\": chat_history})\n",
    "    chat_history.append((question, result[\"answer\"]))\n",
    "    \n",
    "    return result, chat_history"
   ]
  },
  {
   "cell_type": "markdown",
   "id": "8aa3693a",
   "metadata": {},
   "source": [
    "### Running Code"
   ]
  },
  {
   "cell_type": "code",
   "execution_count": 11,
   "id": "19cb2619",
   "metadata": {},
   "outputs": [
    {
     "name": "stdout",
     "output_type": "stream",
     "text": [
      "Loading https://www.govinfo.gov/content/pkg/CDOC-110hdoc50/pdf/CDOC-110hdoc50.pdf\n",
      "You have 85 pages in your data\n",
      "There are 3683 characters in the page.\n"
     ]
    }
   ],
   "source": [
    "data = load_document('https://www.govinfo.gov/content/pkg/CDOC-110hdoc50/pdf/CDOC-110hdoc50.pdf')\n",
    "# print(data[1].page_content)\n",
    "# print(data[10].metadata)\n",
    "\n",
    "print(f'You have {len(data)} pages in your data')\n",
    "print(f'There are {len(data[20].page_content)} characters in the page.')"
   ]
  },
  {
   "cell_type": "code",
   "execution_count": 12,
   "id": "29ca4d7f",
   "metadata": {},
   "outputs": [
    {
     "name": "stdout",
     "output_type": "stream",
     "text": [
      "Loading files/proposal.docx\n",
      "Your Name\n",
      "\n",
      "123 Bakersville\n",
      "\n",
      "Bread County, 8888\n",
      "\n",
      "youremail@gmail.com\n",
      "\n",
      "www.yourwebsite.com\n",
      "\n",
      "\n",
      "\n",
      "\n",
      "\n",
      "\n",
      "\n",
      "Tuesday, 5 May, 2020\n",
      "\n",
      "Client’s Name\n",
      "\n",
      "Owner\n",
      "\n",
      "Company Name\n",
      "\n",
      "\n",
      "\n",
      "\n",
      "\n",
      "Dear Name,\n",
      "\n",
      "Thanks for discussing your business with me yesterday. I’ve compiled 3 options I believe will help achieve the business goals we’ve discussed.\n",
      "\n",
      "Please review my proposal and let me know if you have any questions or comments. I will contact you next week Tuesday if I haven’t heard from you by then.\n",
      "\n",
      "\n",
      "\n",
      "Regards,\n",
      "\n",
      "Your Name\n",
      "\n",
      "\n",
      "\n",
      "\n",
      "\n",
      "\n",
      "\n",
      "\n",
      "\n",
      "\n",
      "\n",
      "\n",
      "\n",
      "\n",
      "\n",
      "\n",
      "\n",
      "\n",
      "\n",
      "\n",
      "\n",
      "PROJECT OVERVIEW\n",
      "\n",
      "COMPANY (replace with the company name) would like to improve their existing website to focus on generating more free consultations which will result in more paying clients.\n",
      "\n",
      "You recognize the importance of a conversion-centered website and thus the reason for a professional redesign with this purpose in mind.\n",
      "\n",
      "Over 50% of your website visitors are viewing the website on their mobile device. The website will primarily be focused on a clear and simplified process to request a free consultation with less distractions.\n",
      "\n",
      "You are currently running multiple marketing campaigns on various channels and the website will need to be tailored to the visitors from these channels using effective landing pages that are relevant to the visitor and achieves the necessary business goals of booking a free consultation.\n",
      "\n",
      "According to your data, only 2% of website visitors result in free consultations and 10% of free consultations result in paying clients. \n",
      "\n",
      "The goal would be to double the number of free consultations to at least 4%, which I believe is a low estimate based on the results I’ve seen in similar industries focused around effective call-to-actions (free consultations).\n",
      "\n",
      "Realistically, I do believe we could achieve a 6 – 8% conversion rate of free consultations once the site has been completed and improved on, but I am 100% confident that 4% is a low estimate.\n",
      "\n",
      "At an average value of $1,250 per client and based on double your existing monthly client sign ups (4 per month), I’m very confident we could achieve 4 additional sign ups per month (4 x $1,250 = $5,000) or 48 additional sign ups per year (48 x $1,250 = $60,000).\n",
      "\n",
      "As a reference, below is the contact email of John Smith. After working with him on a similar project, his business almost tripled in sales within one year:\n",
      "\n",
      "\n",
      "\n",
      "John Smith\n",
      "\n",
      "Director at XYZ\n",
      "\n",
      "johnsmith@xyz.com\n",
      "\n",
      "\n",
      "\n",
      "\n",
      "\n",
      "\n",
      "\n",
      "\n",
      "\n",
      "\n",
      "\n",
      "\n",
      "\n",
      "\n",
      "\n",
      "\n",
      "\n",
      "Page 1 of 3\n",
      "\n",
      "Page 1 of 3\n",
      "\n",
      "PROJECT OPTIONS\n",
      "\n",
      "I’ve listed 3 possible options below for the project. You will notice that option 3 has a monthly retainer service included. This provides you with on-going access to my expertise in this area as well as the tasks outlined below.\n",
      "\n",
      "Based on our previous conversations, I would estimate and recommend that you will benefit from my retainer services for a minimum of 3 – 6 months.\n",
      "\n",
      "\n",
      "\n",
      "\n",
      "\n",
      "Option 1:\n",
      "\n",
      "I will redesign COMPANY website focused on acquiring more free consultations as the main priority.\n",
      "\n",
      "Additional services under this option include:\n",
      "\n",
      "Integrating social media profiles\n",
      "\n",
      "Integrating your email marketing service provider\n",
      "\n",
      "Google Analytics integration\n",
      "\n",
      "\n",
      "\n",
      "\n",
      "\n",
      "Option 2:\n",
      "\n",
      "This option includes everything from option 1, but also includes the following additional services:\n",
      "\n",
      "Submission to Google Search Console for SEO purposes\n",
      "\n",
      "10 Premium Stock Photo Images\n",
      "\n",
      "Creation of 5 additional landing pages for various marketing campaigns\n",
      "\n",
      "\n",
      "\n",
      "\n",
      "\n",
      "Option 3:\n",
      "\n",
      "\n",
      "\n",
      "Page 2 of 3\n",
      "\n",
      "Page 2 of 3This option includes everything from options 1 and 2, but also includes the following additional services:\n",
      "\n",
      "AdWords account setup, creating effective campaigns and monitoring for improvements\n",
      "\n",
      "Local directory submissions (this boosts your SEO results)\n",
      "\n",
      "Google local listing (this boosts your SEO results)\n",
      "\n",
      "Integrating and configuring additional CTA software tools like SumoMe\n",
      "\n",
      "Integrating live-chat software (Zopim)\n",
      "\n",
      "Marketing retainer includes SEO and 2x Monthly Articles\n",
      "\n",
      "\n",
      "\n",
      "\n",
      "\n",
      "\n",
      "\n",
      "\n",
      "\n",
      "Page 3 of 3\n",
      "\n",
      "Page 3 of 3TERMS OF AGREEMENT\n",
      "\n",
      "You will notice that I don’t provide an hourly billing cost. This is harmful to you in the sense that it discourages efficiency and creativity from my part and in the end, we are both focused on the outcome and not inefficient hours worked.\n",
      "\n",
      "The prices provided below are fixed, which means there are no hidden fees and I absorb all the risk in completing the project within these boundaries.\n",
      "\n",
      "\n",
      "\n",
      "The pricing for each option is as follows:\n",
      "\n",
      "Option 1 is $3,500 once-off\n",
      "\n",
      "Option 2 is $4,500 once-off\n",
      "\n",
      "Option 3 is $5,950 once-off + $500 /month retainer\n",
      "\n",
      "\n",
      "\n",
      "Once-off fees are to be paid in full upfront and the retainer amounts are due at the beginning of each month.\n",
      "\n",
      "I guarantee my work. If at any point, you feel that I have failed in delivering what is described in this proposal, please contact me and I will either make necessary changes or refund you.\n",
      "\n",
      "\n",
      "\n",
      "Please select the option you prefer with an “X” and sign below:\n",
      "\n",
      "Option 1  \n",
      "\n",
      "Option 2\n",
      "\n",
      "Option 3\n",
      "\n",
      "\n",
      "\n",
      "Upon receipt of this agreement, I will send through an invoice for payment.\n",
      "\n",
      "\n",
      "\n",
      "Name:\t\t\t\t\t\t\tClient Name: \n",
      "\n",
      "Signature:  \t\t\t\t\t\tClient Signature: \n",
      "\n",
      "Date Signed: Tuesday, 5 May, 2020\t\t\tDate Signed: \n",
      "\n",
      "\n",
      "\n",
      "\n",
      "\n",
      "\n",
      "\n",
      "Note: This proposal is only valid until 31 May, 2020\n",
      "\n",
      "Initials: _________\n"
     ]
    }
   ],
   "source": [
    "data = load_document('files/proposal.docx')\n",
    "print(data[0].page_content)"
   ]
  },
  {
   "cell_type": "code",
   "execution_count": 13,
   "id": "8a0afc89",
   "metadata": {},
   "outputs": [
    {
     "name": "stdout",
     "output_type": "stream",
     "text": [
      "Generative artificial intelligence (also generative AI or GenAI) is artificial intelligence capable of generating text, images, or other media, using generative models. Generative AI models learn the patterns and structure of their input training data and then generate new data that has similar characteristics.In the early 2020s, advances in transformer-based deep neural networks enabled a number of generative AI systems notable for accepting natural language prompts as input. These include large language model chatbots such as ChatGPT, Copilot, Bard, and LLaMA, and text-to-image artificial intelligence art systems such as Stable Diffusion, Midjourney, and DALL-E.Generative AI has uses across a wide range of industries, including art, writing, script writing, software development, product design, healthcare, finance, gaming, marketing, and fashion. Investment in generative AI surged during the early 2020s, with large companies such as Microsoft, Google, and Baidu as well as numerous smaller firms developing generative AI models. However, there are also concerns about the potential misuse of generative AI, including cybercrime or creating fake news or deepfakes which can be used to deceive or manipulate people.\n",
      "\n",
      "\n",
      "== History ==\n",
      "\n",
      "The academic discipline of artificial intelligence was founded at a research workshop at Dartmouth College in 1956, and has experienced several waves of advancement and optimism in the decades since. Since its founding, researchers in the field have raised philosophical and ethical arguments about the nature of the human mind and the consequences of creating artificial beings with human-like intelligence; these issues have previously been explored by myth, fiction and philosophy since antiquity. These concepts of automated art date at least to the automata of ancient Greek civilization, where inventors such as Daedalus and Hero of Alexandria were described as having designed machines capable of writing text, generating sounds, and playing music. The tradition of creative automatons has flourished throughout history, such as Maillardet's automaton, created in the early 1800s.Artificial Intelligence is an idea that has been captivating society since the mid-20th century. It began with science fiction familiarizing the world with the concept but the idea wasn't fully seen in the scientific manner until Alan Turing, a polymath, was curious about the feasibility of the concept. Turing's groundbreaking 1950 paper, \"Computing Machinery and Intelligence,\" posed fundamental questions about machine reasoning similar to human intelligence, significantly contributing to the conceptual groundwork of AI. The development of AI was not very rapid at first because of the high costs and the fact that computers were not able to store commands. This changed during the 1956 Dartmouth Summer Research Project on AI where there was an inspiring call for AI research which led it to be a landmark event as it set the precedent for two decades of rapid advancements in the field.Since the founding of AI in the 1950s, artists and researchers have used artificial intelligence to create artistic works. By the early 1970s, Harold Cohen was creating and exhibiting generative AI works created by AARON, the computer program Cohen created to generate paintings.Markov chains have long been used to model natural languages since their development by Russian mathematician Andrey Markov in the early 20th century. Markov published his first paper on the topic in 1906, and analyzed the pattern of vowels and consonants in the novel Eugeny Onegin using Markov chains. Once a Markov chain is learned on a text corpus, it can then be used as a probabilistic text generator.The field of machine learning often uses statistical models, including generative models, to model and predict data. Beginning in the late 2000s, the emergence of deep learning drove progress and research in image classification, speech recognition, natural language processing and othe\n"
     ]
    }
   ],
   "source": [
    "data = load_from_wikipedia('Generative AI')\n",
    "print(data[0].page_content)"
   ]
  },
  {
   "cell_type": "code",
   "execution_count": 14,
   "id": "74c72f60",
   "metadata": {},
   "outputs": [
    {
     "name": "stdout",
     "output_type": "stream",
     "text": [
      "37\n",
      "== History ==\n"
     ]
    }
   ],
   "source": [
    "chunks = chunk_data(data)\n",
    "print(len(chunks))\n",
    "print(chunks[5].page_content)"
   ]
  },
  {
   "cell_type": "code",
   "execution_count": 15,
   "id": "74a231ac",
   "metadata": {},
   "outputs": [
    {
     "name": "stdout",
     "output_type": "stream",
     "text": [
      "Total tokens: 1642\n",
      "Embedding Cost in USD: 0.000657\n"
     ]
    }
   ],
   "source": [
    "print_embedding_cost(chunks)"
   ]
  },
  {
   "cell_type": "code",
   "execution_count": 16,
   "id": "899a8ebe",
   "metadata": {},
   "outputs": [
    {
     "name": "stderr",
     "output_type": "stream",
     "text": [
      "/Users/oterieyenike/anaconda3/lib/python3.11/site-packages/pinecone/index.py:4: TqdmExperimentalWarning: Using `tqdm.autonotebook.tqdm` in notebook mode. Use `tqdm.tqdm` instead to force console mode (e.g. in jupyter console)\n",
      "  from tqdm.autonotebook import tqdm\n"
     ]
    },
    {
     "name": "stdout",
     "output_type": "stream",
     "text": [
      "Deleting all indexes ... \n",
      "Ok\n"
     ]
    }
   ],
   "source": [
    "delete_pinecone_index()"
   ]
  },
  {
   "cell_type": "code",
   "execution_count": 17,
   "id": "a5b8cfd1",
   "metadata": {},
   "outputs": [
    {
     "name": "stdout",
     "output_type": "stream",
     "text": [
      "Creating index askdocument and embeddings ...Ok\n"
     ]
    }
   ],
   "source": [
    "index_name = 'askdocument'\n",
    "vector_store = insert_or_fetch_embeddings(index_name)"
   ]
  },
  {
   "cell_type": "code",
   "execution_count": 19,
   "id": "85d563f3",
   "metadata": {},
   "outputs": [
    {
     "name": "stdout",
     "output_type": "stream",
     "text": [
      "The document appears to be discussing the history and development of the concept of artificial beings with human-like intelligence, including its exploration in myth, fiction, and philosophy throughout history, and how it became a scientific topic with Alan Turing's paper in 1950. It also mentions the raised philosophical and ethical arguments regarding the nature of the human mind and the consequences of creating such beings.\n"
     ]
    }
   ],
   "source": [
    "q = 'What is the whole document about?'\n",
    "answer = ask_and_get_answer(vector_store, q)\n",
    "print(answer)"
   ]
  },
  {
   "cell_type": "code",
   "execution_count": null,
   "id": "e34df054",
   "metadata": {},
   "outputs": [
    {
     "name": "stdout",
     "output_type": "stream",
     "text": [
      "Write Quit or Exit to quit\n",
      "Question #1: How many amendments are in the us constitution?\n",
      "\n",
      "Answer: The passage provided does not contain any information related to the number of amendments in the US Constitution. I'm sorry, but I don't know the answer to your question.\n",
      "\n",
      " -------------------------------------------------- \n",
      "\n",
      "Question #2: How many amendments are in the U.S. constitution?\n",
      "\n",
      "Answer: There are 27 amendments in the U.S. Constitution.\n",
      "\n",
      " -------------------------------------------------- \n",
      "\n"
     ]
    }
   ],
   "source": [
    "import time\n",
    "i = 1\n",
    "print('Write Quit or Exit to quit')\n",
    "while True:\n",
    "    q = input(f'Question #{i}: ')\n",
    "    i = i + 1\n",
    "    if q.lower() in ['quit', 'exit']:\n",
    "        print('Quitting... bye bye!')\n",
    "        time.sleep(2)\n",
    "        break\n",
    "        \n",
    "    answer = ask_and_get_answer(vector_store, q)\n",
    "    print(f'\\nAnswer: {answer}')\n",
    "    print(f'\\n {\"-\" * 50} \\n')"
   ]
  },
  {
   "cell_type": "code",
   "execution_count": 23,
   "id": "e6f3fc8d",
   "metadata": {},
   "outputs": [
    {
     "name": "stdout",
     "output_type": "stream",
     "text": [
      "Deleting all indexes ... \n",
      "Ok\n"
     ]
    }
   ],
   "source": [
    "delete_pinecone_index()"
   ]
  },
  {
   "cell_type": "code",
   "execution_count": 24,
   "id": "ab05c84b",
   "metadata": {},
   "outputs": [
    {
     "name": "stdout",
     "output_type": "stream",
     "text": [
      "Creating index chatgpt and embeddings ...Ok\n"
     ]
    }
   ],
   "source": [
    "data = load_from_wikipedia('ChatGPT', 'ro')\n",
    "chunks = chunk_data(data)\n",
    "index_name = 'chatgpt'\n",
    "vector_store = insert_or_fetch_embeddings(index_name)"
   ]
  },
  {
   "cell_type": "code",
   "execution_count": 25,
   "id": "d5c4f63e",
   "metadata": {},
   "outputs": [
    {
     "name": "stdout",
     "output_type": "stream",
     "text": [
      "ChatGPT este un sistem de asistență virtuală bazat pe inteligența artificială dezvoltat de OpenAI. Este o versiune îmbunătățită a modelului GPT-3, care a fost ajustată și optimizată pentru a oferi răspunsuri mai precise și mai relevante la întrebările și solicitările utilizatorilor. Este concepută pentru a simula o conversație reală cu un om și poate fi utilizată într-o varietate de scopuri, inclusiv pentru educație și suport tehnic.\n"
     ]
    }
   ],
   "source": [
    "q = 'Ce este ChatGPT?'\n",
    "answer = ask_and_get_answer(vector_store, q)\n",
    "print(answer)"
   ]
  },
  {
   "cell_type": "code",
   "execution_count": null,
   "id": "4186956c",
   "metadata": {},
   "outputs": [],
   "source": [
    "# asking with memory\n",
    "chat_history = []\n",
    "question = 'How many amendments are in the U.S constitution?'\n",
    "result, chat_history = ask_with_memory(vector_store, question, chat_history)\n",
    "print(result['answer'])\n",
    "print(chat_history)"
   ]
  }
 ],
 "metadata": {
  "kernelspec": {
   "display_name": "Python 3 (ipykernel)",
   "language": "python",
   "name": "python3"
  },
  "language_info": {
   "codemirror_mode": {
    "name": "ipython",
    "version": 3
   },
   "file_extension": ".py",
   "mimetype": "text/x-python",
   "name": "python",
   "nbconvert_exporter": "python",
   "pygments_lexer": "ipython3",
   "version": "3.11.5"
  }
 },
 "nbformat": 4,
 "nbformat_minor": 5
}
