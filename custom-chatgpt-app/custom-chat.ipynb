{
 "cells": [
  {
   "cell_type": "code",
   "execution_count": 1,
   "id": "2d177759",
   "metadata": {},
   "outputs": [
    {
     "data": {
      "text/plain": [
       "True"
      ]
     },
     "execution_count": 1,
     "metadata": {},
     "output_type": "execute_result"
    }
   ],
   "source": [
    "from dotenv import load_dotenv, find_dotenv\n",
    "load_dotenv(find_dotenv(), override=True)"
   ]
  },
  {
   "cell_type": "code",
   "execution_count": null,
   "id": "f01a4e65",
   "metadata": {},
   "outputs": [
    {
     "name": "stdout",
     "output_type": "stream",
     "text": [
      "Your prompt: What is the distance from mars to earth?\n",
      "\n",
      "\n",
      "\u001b[1m> Entering new LLMChain chain...\u001b[0m\n",
      "Prompt after formatting:\n",
      "\u001b[32;1m\u001b[1;3mSystem: You are a chatbot having a conversation with a human.\n",
      "Human: Light speed in vacuum\n",
      "AI: The speed of light in a vacuum is approximately 299,792,458 meters per second, which is denoted as \"c\" in physics. It is considered to be the fastest speed in the universe and plays a fundamental role in the theory of relativity.\n",
      "Human: Light speed in water\n",
      "AI: The speed of light in a medium like water is slower than in a vacuum. In water, light travels at approximately 225,000 kilometers per second, which is about 75% of its speed in a vacuum. The exact speed of light in water can vary with factors like temperature, pressure, and the composition of the water.\n",
      "Human: \n",
      "AI: How light travels through different materials can be described by a property called the refractive index. Refractive index measures how much a material can bend or slow down light as it passes through. The refractive index of water is about 1.33, meaning that light in water travels about 1.33 times slower than in a vacuum.\n",
      "Human: how long does it take to travel from Nigeria to UK\n",
      "AI: The travel time from Nigeria to the UK depends on the mode of transportation you choose. If you are referring to air travel, the flight time can vary depending on factors such as the departure and arrival airports, layovers, and the speed of the aircraft.\n",
      "\n",
      "On average, a direct flight from Nigeria to the UK can take around 6 to 8 hours. However, this can vary significantly depending on the specific cities involved and the airline you choose. It is always recommended to check with airlines for the most accurate and up-to-date information on flight durations.\n",
      "Human: What is the distance from mars to earth?\u001b[0m\n",
      "\n",
      "\u001b[1m> Finished chain.\u001b[0m\n",
      "The distance between Mars and Earth varies considerably due to the constantly changing positions of the two planets in their orbits around the sun. \n",
      "\n",
      "On average, the closest distance between Mars and Earth is about 54.6 million kilometers (33.9 million miles). This occurrence, known as a \"close approach,\" happens approximately every 26 months. \n",
      "\n",
      "However, when they are on the opposite sides of the sun, the distance can reach over 401 million kilometers (249 million miles). \n",
      "\n",
      "It's important to note that these values are approximate and the actual distance can fluctuate due to the elliptical nature of the planets' orbits.\n",
      "--------------------------------------------------\n"
     ]
    }
   ],
   "source": [
    "from langchain.chat_models import ChatOpenAI\n",
    "from langchain.schema import SystemMessage\n",
    "from langchain.chains import LLMChain\n",
    "from langchain.prompts import ChatPromptTemplate, HumanMessagePromptTemplate, MessagesPlaceholder\n",
    "from langchain.memory import ConversationBufferMemory, FileChatMessageHistory\n",
    "\n",
    "llm = ChatOpenAI(model_name='gpt-3.5-turbo', temperature=1)\n",
    "\n",
    "history = FileChatMessageHistory('chat_history.json')\n",
    "memory = ConversationBufferMemory(\n",
    "    memory_key='chat_history',\n",
    "    chat_memory=history,\n",
    "    return_messages=True\n",
    ")\n",
    "\n",
    "prompt = ChatPromptTemplate(\n",
    "    input_variables = ['content'],\n",
    "    messages = [\n",
    "        SystemMessage(content='You are a chatbot having a conversation with a human.'),\n",
    "        MessagesPlaceholder(variable_name='chat_history'),\n",
    "        HumanMessagePromptTemplate.from_template('{content}')\n",
    "    ]\n",
    ")\n",
    "\n",
    "chain = LLMChain(\n",
    "    llm=llm,\n",
    "    prompt=prompt,\n",
    "    memory=memory,\n",
    "    verbose=True\n",
    ")\n",
    "\n",
    "while True:\n",
    "    content = input('Your prompt: ')\n",
    "    if content in ['quit', 'exit', 'bye']:\n",
    "        print('Goodbye!')\n",
    "        break\n",
    "    \n",
    "    response = chain.run({'content': content})\n",
    "    print(response)\n",
    "    print('-' * 50)"
   ]
  }
 ],
 "metadata": {
  "kernelspec": {
   "display_name": "Python 3 (ipykernel)",
   "language": "python",
   "name": "python3"
  },
  "language_info": {
   "codemirror_mode": {
    "name": "ipython",
    "version": 3
   },
   "file_extension": ".py",
   "mimetype": "text/x-python",
   "name": "python",
   "nbconvert_exporter": "python",
   "pygments_lexer": "ipython3",
   "version": "3.11.5"
  }
 },
 "nbformat": 4,
 "nbformat_minor": 5
}
